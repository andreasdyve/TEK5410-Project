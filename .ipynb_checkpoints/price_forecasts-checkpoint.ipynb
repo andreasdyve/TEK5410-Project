{
 "cells": [
  {
   "cell_type": "code",
   "execution_count": 54,
   "metadata": {},
   "outputs": [
    {
     "name": "stdout",
     "output_type": "stream",
     "text": [
      "0.6861143523920653\n",
      "0.8826232247284879\n",
      "average predicted fraction of 2020 cost in 2050 for CCGT + CCS:  0.7843687885602766\n",
      "1185.181239514578\n"
     ]
    },
    {
     "data": {
      "image/png": "[encoded data removed]",
      "text/plain": [
       "<Figure size 432x288 with 1 Axes>"
      ]
     },
     "metadata": {
      "needs_background": "light"
     },
     "output_type": "display_data"
    },
    {
     "ename": "IndexError",
     "evalue": "index 7 is out of bounds for axis 0 with size 7",
     "output_type": "error",
     "traceback": [
      "\u001b[0;31m---------------------------------------------------------------------------\u001b[0m",
      "\u001b[0;31mIndexError\u001b[0m                                Traceback (most recent call last)",
      "\u001b[0;32m<ipython-input-54-7dc20341f059>\u001b[0m in \u001b[0;36m<module>\u001b[0;34m\u001b[0m\n\u001b[1;32m     35\u001b[0m     \u001b[0;32mfor\u001b[0m \u001b[0mj\u001b[0m \u001b[0;32min\u001b[0m \u001b[0mrange\u001b[0m\u001b[0;34m(\u001b[0m\u001b[0;36m1\u001b[0m\u001b[0;34m,\u001b[0m\u001b[0;36m31\u001b[0m\u001b[0;34m)\u001b[0m\u001b[0;34m:\u001b[0m\u001b[0;34m\u001b[0m\u001b[0;34m\u001b[0m\u001b[0m\n\u001b[1;32m     36\u001b[0m         \u001b[0mdenom\u001b[0m \u001b[0;34m+=\u001b[0m \u001b[0;36m1\u001b[0m\u001b[0;34m/\u001b[0m\u001b[0;34m(\u001b[0m\u001b[0;34m(\u001b[0m\u001b[0;36m1\u001b[0m\u001b[0;34m+\u001b[0m\u001b[0;36m0.05\u001b[0m\u001b[0;34m)\u001b[0m\u001b[0;34m**\u001b[0m\u001b[0mj\u001b[0m\u001b[0;34m)\u001b[0m\u001b[0;34m\u001b[0m\u001b[0;34m\u001b[0m\u001b[0m\n\u001b[0;32m---> 37\u001b[0;31m     \u001b[0mannuitised_cost\u001b[0m\u001b[0;34m[\u001b[0m\u001b[0mi\u001b[0m\u001b[0;34m]\u001b[0m \u001b[0;34m=\u001b[0m \u001b[0mcosts\u001b[0m\u001b[0;34m[\u001b[0m\u001b[0mi\u001b[0m\u001b[0;34m]\u001b[0m\u001b[0;34m/\u001b[0m\u001b[0;34m(\u001b[0m\u001b[0mdenom\u001b[0m\u001b[0;34m)\u001b[0m\u001b[0;34m\u001b[0m\u001b[0;34m\u001b[0m\u001b[0m\n\u001b[0m\u001b[1;32m     38\u001b[0m \u001b[0;34m\u001b[0m\u001b[0m\n\u001b[1;32m     39\u001b[0m \u001b[0mplt\u001b[0m\u001b[0;34m.\u001b[0m\u001b[0mplot\u001b[0m\u001b[0;34m(\u001b[0m\u001b[0myears\u001b[0m\u001b[0;34m,\u001b[0m\u001b[0mannuitised_cost\u001b[0m\u001b[0;34m)\u001b[0m\u001b[0;34m\u001b[0m\u001b[0;34m\u001b[0m\u001b[0m\n",
      "\u001b[0;31mIndexError\u001b[0m: index 7 is out of bounds for axis 0 with size 7"
     ]
    }
   ],
   "source": [
    "import matplotlib.pyplot as plt\n",
    "import numpy as np\n",
    "\n",
    "# https://www.sciencedirect.com/science/article/pii/S2211467X18300634?via%3Dihub#tbl14\n",
    "\n",
    "low = (588/857)\n",
    "print(low)\n",
    "high = (2113/2394)\n",
    "print(high)\n",
    "avg_decrease = (low+high)/2\n",
    "print(\"average predicted fraction of 2020 cost in 2050 for CCGT + CCS: \", avg)\n",
    "\n",
    "\n",
    "# https://www.globalccsinstitute.com/archive/hub/publications/17011/costs-co2-capture-transport-and-storage.pdf\n",
    "# page 42\n",
    "\n",
    "cost_2020 = 1511\n",
    "cost_2050 = cost_2020 * avg\n",
    "print(cost_2050)\n",
    "\n",
    "years = [2020,2025,2030,2035,2040,2045,2050]\n",
    "costs = np.linspace(1511,1185,len(years))\n",
    "costs = costs*0.88 # Convert to EURO\n",
    "\n",
    "plt.plot(years,costs)\n",
    "plt.scatter(years,costs,color='red')\n",
    "plt.xlabel('year')\n",
    "plt.ylabel('Investment cost [EUR/kW]')\n",
    "plt.title('Predictions of CCGT + CCS investment cost from 2020 to 2050')\n",
    "plt.show()\n",
    "\n",
    "denom = 0\n",
    "annuitised_cost = np.zeros(7)\n",
    "for i in range(7):\n",
    "    for j in range(1,31):\n",
    "        denom += 1/((1+0.05)**j)\n",
    "    annuitised_cost[i] = costs[i]/(denom)\n",
    "\n",
    "plt.plot(years,annuitised_cost)\n",
    "plt.scatter(years,annuitised_costs,color='red')\n",
    "plt.xlabel('year')\n",
    "plt.ylabel('Investment cost [EUR]')\n",
    "plt.title('Predictions of CCGT + CCS annuitised cost from 2020 to 2050')\n",
    "plt.show()"
   ]
  },
  {
   "cell_type": "code",
   "execution_count": 21,
   "metadata": {},
   "outputs": [
    {
     "name": "stdout",
     "output_type": "stream",
     "text": [
      "98292.71840629796\n"
     ]
    }
   ],
   "source": [
    "import numpy as np\n",
    "denom = 0\n",
    "annuitised_cost = np.zeros(7)\n",
    "for i in range(1,8):\n",
    "    for j in range(1,31):\n",
    "        denom += 1/((1+0.05)**j)\n",
    "cost = 1511000/(denom)\n",
    "print(cost)"
   ]
  }
 ],
 "metadata": {
  "kernelspec": {
   "display_name": "Python 3",
   "language": "python",
   "name": "python3"
  },
  "language_info": {
   "codemirror_mode": {
    "name": "ipython",
    "version": 3
   },
   "file_extension": ".py",
   "mimetype": "text/x-python",
   "name": "python",
   "nbconvert_exporter": "python",
   "pygments_lexer": "ipython3",
   "version": "3.8.5"
  }
 },
 "nbformat": 4,
 "nbformat_minor": 4
}
