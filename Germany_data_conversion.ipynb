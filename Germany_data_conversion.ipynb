{
 "cells": [
  {
   "cell_type": "code",
   "execution_count": 1,
   "metadata": {},
   "outputs": [],
   "source": [
    "import pandas as pd\n",
    "import numpy as np\n",
    "import matplotlib.pyplot as plt"
   ]
  },
  {
   "cell_type": "markdown",
   "metadata": {},
   "source": [
    "## Load file, add datetime column and resample to 1H frequency"
   ]
  },
  {
   "cell_type": "code",
   "execution_count": 49,
   "metadata": {},
   "outputs": [
    {
     "data": {
      "text/html": [
       "<div>\n",
       "<style scoped>\n",
       "    .dataframe tbody tr th:only-of-type {\n",
       "        vertical-align: middle;\n",
       "    }\n",
       "\n",
       "    .dataframe tbody tr th {\n",
       "        vertical-align: top;\n",
       "    }\n",
       "\n",
       "    .dataframe thead th {\n",
       "        text-align: right;\n",
       "    }\n",
       "</style>\n",
       "<table border=\"1\" class=\"dataframe\">\n",
       "  <thead>\n",
       "    <tr style=\"text-align: right;\">\n",
       "      <th></th>\n",
       "      <th>Actual Total Load [MW] - Germany (DE)</th>\n",
       "    </tr>\n",
       "    <tr>\n",
       "      <th>datetime</th>\n",
       "      <th></th>\n",
       "    </tr>\n",
       "  </thead>\n",
       "  <tbody>\n",
       "    <tr>\n",
       "      <th>2019-01-01 00:00:00</th>\n",
       "      <td>43012.75</td>\n",
       "    </tr>\n",
       "    <tr>\n",
       "      <th>2019-01-01 01:00:00</th>\n",
       "      <td>41460.75</td>\n",
       "    </tr>\n",
       "    <tr>\n",
       "      <th>2019-01-01 02:00:00</th>\n",
       "      <td>39921.75</td>\n",
       "    </tr>\n",
       "    <tr>\n",
       "      <th>2019-01-01 03:00:00</th>\n",
       "      <td>39099.50</td>\n",
       "    </tr>\n",
       "    <tr>\n",
       "      <th>2019-01-01 04:00:00</th>\n",
       "      <td>38886.25</td>\n",
       "    </tr>\n",
       "    <tr>\n",
       "      <th>...</th>\n",
       "      <td>...</td>\n",
       "    </tr>\n",
       "    <tr>\n",
       "      <th>2019-12-31 19:00:00</th>\n",
       "      <td>54203.75</td>\n",
       "    </tr>\n",
       "    <tr>\n",
       "      <th>2019-12-31 20:00:00</th>\n",
       "      <td>51567.50</td>\n",
       "    </tr>\n",
       "    <tr>\n",
       "      <th>2019-12-31 21:00:00</th>\n",
       "      <td>48591.50</td>\n",
       "    </tr>\n",
       "    <tr>\n",
       "      <th>2019-12-31 22:00:00</th>\n",
       "      <td>46884.00</td>\n",
       "    </tr>\n",
       "    <tr>\n",
       "      <th>2019-12-31 23:00:00</th>\n",
       "      <td>46440.00</td>\n",
       "    </tr>\n",
       "  </tbody>\n",
       "</table>\n",
       "<p>8760 rows × 1 columns</p>\n",
       "</div>"
      ],
      "text/plain": [
       "                     Actual Total Load [MW] - Germany (DE)\n",
       "datetime                                                  \n",
       "2019-01-01 00:00:00                               43012.75\n",
       "2019-01-01 01:00:00                               41460.75\n",
       "2019-01-01 02:00:00                               39921.75\n",
       "2019-01-01 03:00:00                               39099.50\n",
       "2019-01-01 04:00:00                               38886.25\n",
       "...                                                    ...\n",
       "2019-12-31 19:00:00                               54203.75\n",
       "2019-12-31 20:00:00                               51567.50\n",
       "2019-12-31 21:00:00                               48591.50\n",
       "2019-12-31 22:00:00                               46884.00\n",
       "2019-12-31 23:00:00                               46440.00\n",
       "\n",
       "[8760 rows x 1 columns]"
      ]
     },
     "execution_count": 49,
     "metadata": {},
     "output_type": "execute_result"
    }
   ],
   "source": [
    "demand = pd.read_csv('Total Load - Day Ahead _ Actual_201901010000-202001010000-2.csv', keep_default_na=True)\n",
    "demand['datetime'] = pd.date_range(start='2019-01-01 00:00:00', end='2020-01-01 00:45:00', freq='15min')\n",
    "demand = demand[['datetime', 'Actual Total Load [MW] - Germany (DE)']].set_index('datetime')\n",
    "demand = demand.resample('H').mean()\n",
    "demand = demand[:-1]\n",
    "demand"
   ]
  },
  {
   "cell_type": "markdown",
   "metadata": {},
   "source": [
    "## Add hour column, save file in tsv format"
   ]
  },
  {
   "cell_type": "code",
   "execution_count": 51,
   "metadata": {},
   "outputs": [],
   "source": [
    "demand['hour'] = np.arange(1,8761)\n",
    "demand['hour'] = 'h' + demand['hour'].astype(str)\n",
    "demand = demand[['hour', 'Actual Total Load [MW] - Germany (DE)']]\n",
    "demand.to_csv('Germany_demand_2019.tsv',sep='\\t', header=False, index=False)"
   ]
  },
  {
   "cell_type": "code",
   "execution_count": null,
   "metadata": {},
   "outputs": [],
   "source": []
  },
  {
   "cell_type": "code",
   "execution_count": 58,
   "metadata": {},
   "outputs": [
    {
     "data": {
      "text/html": [
       "<div>\n",
       "<style scoped>\n",
       "    .dataframe tbody tr th:only-of-type {\n",
       "        vertical-align: middle;\n",
       "    }\n",
       "\n",
       "    .dataframe tbody tr th {\n",
       "        vertical-align: top;\n",
       "    }\n",
       "\n",
       "    .dataframe thead th {\n",
       "        text-align: right;\n",
       "    }\n",
       "</style>\n",
       "<table border=\"1\" class=\"dataframe\">\n",
       "  <thead>\n",
       "    <tr style=\"text-align: right;\">\n",
       "      <th></th>\n",
       "      <th>time</th>\n",
       "      <th>national</th>\n",
       "      <th>offshore</th>\n",
       "      <th>onshore</th>\n",
       "    </tr>\n",
       "  </thead>\n",
       "  <tbody>\n",
       "    <tr>\n",
       "      <th>0</th>\n",
       "      <td>1980-01-01 00:00:00</td>\n",
       "      <td>0.2584</td>\n",
       "      <td>0.3169</td>\n",
       "      <td>0.2515</td>\n",
       "    </tr>\n",
       "    <tr>\n",
       "      <th>1</th>\n",
       "      <td>1980-01-01 01:00:00</td>\n",
       "      <td>0.2579</td>\n",
       "      <td>0.3242</td>\n",
       "      <td>0.2501</td>\n",
       "    </tr>\n",
       "    <tr>\n",
       "      <th>2</th>\n",
       "      <td>1980-01-01 02:00:00</td>\n",
       "      <td>0.2446</td>\n",
       "      <td>0.3307</td>\n",
       "      <td>0.2344</td>\n",
       "    </tr>\n",
       "    <tr>\n",
       "      <th>3</th>\n",
       "      <td>1980-01-01 03:00:00</td>\n",
       "      <td>0.2362</td>\n",
       "      <td>0.3488</td>\n",
       "      <td>0.2230</td>\n",
       "    </tr>\n",
       "    <tr>\n",
       "      <th>4</th>\n",
       "      <td>1980-01-01 04:00:00</td>\n",
       "      <td>0.2346</td>\n",
       "      <td>0.3779</td>\n",
       "      <td>0.2178</td>\n",
       "    </tr>\n",
       "    <tr>\n",
       "      <th>...</th>\n",
       "      <td>...</td>\n",
       "      <td>...</td>\n",
       "      <td>...</td>\n",
       "      <td>...</td>\n",
       "    </tr>\n",
       "    <tr>\n",
       "      <th>350635</th>\n",
       "      <td>2019-12-31 19:00:00</td>\n",
       "      <td>0.1071</td>\n",
       "      <td>0.0627</td>\n",
       "      <td>0.1123</td>\n",
       "    </tr>\n",
       "    <tr>\n",
       "      <th>350636</th>\n",
       "      <td>2019-12-31 20:00:00</td>\n",
       "      <td>0.0889</td>\n",
       "      <td>0.0493</td>\n",
       "      <td>0.0935</td>\n",
       "    </tr>\n",
       "    <tr>\n",
       "      <th>350637</th>\n",
       "      <td>2019-12-31 21:00:00</td>\n",
       "      <td>0.0774</td>\n",
       "      <td>0.0437</td>\n",
       "      <td>0.0813</td>\n",
       "    </tr>\n",
       "    <tr>\n",
       "      <th>350638</th>\n",
       "      <td>2019-12-31 22:00:00</td>\n",
       "      <td>0.0680</td>\n",
       "      <td>0.0495</td>\n",
       "      <td>0.0701</td>\n",
       "    </tr>\n",
       "    <tr>\n",
       "      <th>350639</th>\n",
       "      <td>2019-12-31 23:00:00</td>\n",
       "      <td>0.0640</td>\n",
       "      <td>0.0678</td>\n",
       "      <td>0.0636</td>\n",
       "    </tr>\n",
       "  </tbody>\n",
       "</table>\n",
       "<p>350640 rows × 4 columns</p>\n",
       "</div>"
      ],
      "text/plain": [
       "                       time  national  offshore  onshore\n",
       "0       1980-01-01 00:00:00    0.2584    0.3169   0.2515\n",
       "1       1980-01-01 01:00:00    0.2579    0.3242   0.2501\n",
       "2       1980-01-01 02:00:00    0.2446    0.3307   0.2344\n",
       "3       1980-01-01 03:00:00    0.2362    0.3488   0.2230\n",
       "4       1980-01-01 04:00:00    0.2346    0.3779   0.2178\n",
       "...                     ...       ...       ...      ...\n",
       "350635  2019-12-31 19:00:00    0.1071    0.0627   0.1123\n",
       "350636  2019-12-31 20:00:00    0.0889    0.0493   0.0935\n",
       "350637  2019-12-31 21:00:00    0.0774    0.0437   0.0813\n",
       "350638  2019-12-31 22:00:00    0.0680    0.0495   0.0701\n",
       "350639  2019-12-31 23:00:00    0.0640    0.0678   0.0636\n",
       "\n",
       "[350640 rows x 4 columns]"
      ]
     },
     "execution_count": 58,
     "metadata": {},
     "output_type": "execute_result"
    }
   ],
   "source": [
    "cf = pd.read_csv('ninja_wind_country_DE_current-merra-2_corrected.csv', header=2)\n",
    "cf"
   ]
  },
  {
   "cell_type": "code",
   "execution_count": null,
   "metadata": {},
   "outputs": [],
   "source": []
  },
  {
   "cell_type": "code",
   "execution_count": null,
   "metadata": {},
   "outputs": [],
   "source": []
  },
  {
   "cell_type": "code",
   "execution_count": null,
   "metadata": {},
   "outputs": [],
   "source": []
  },
  {
   "cell_type": "code",
   "execution_count": null,
   "metadata": {},
   "outputs": [],
   "source": []
  },
  {
   "cell_type": "code",
   "execution_count": null,
   "metadata": {},
   "outputs": [],
   "source": []
  },
  {
   "cell_type": "code",
   "execution_count": null,
   "metadata": {},
   "outputs": [],
   "source": []
  },
  {
   "cell_type": "code",
   "execution_count": null,
   "metadata": {},
   "outputs": [],
   "source": []
  },
  {
   "cell_type": "code",
   "execution_count": null,
   "metadata": {},
   "outputs": [],
   "source": []
  },
  {
   "cell_type": "code",
   "execution_count": null,
   "metadata": {},
   "outputs": [],
   "source": []
  }
 ],
 "metadata": {
  "kernelspec": {
   "display_name": "Python 3",
   "language": "python",
   "name": "python3"
  },
  "language_info": {
   "codemirror_mode": {
    "name": "ipython",
    "version": 3
   },
   "file_extension": ".py",
   "mimetype": "text/x-python",
   "name": "python",
   "nbconvert_exporter": "python",
   "pygments_lexer": "ipython3",
   "version": "3.8.5"
  }
 },
 "nbformat": 4,
 "nbformat_minor": 4
}
