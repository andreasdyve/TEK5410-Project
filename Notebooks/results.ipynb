{
 "cells": [
  {
   "cell_type": "code",
   "execution_count": 144,
   "id": "5375e8af",
   "metadata": {},
   "outputs": [],
   "source": [
    "import sqlite3 as sq\n",
    "import pandas as pd\n",
    "import numpy as np\n",
    "import matplotlib.pyplot as plt\n",
    "import glob"
   ]
  },
  {
   "cell_type": "code",
   "execution_count": 145,
   "id": "f768b90a",
   "metadata": {},
   "outputs": [],
   "source": [
    "con = sq.connect(\"model_results2050.db\")\n",
    "cursor = con.cursor()\n",
    "cursor.execute(\"SELECT name FROM sqlite_master WHERE type='table';\")\n",
    "tables = cursor.fetchall()"
   ]
  },
  {
   "cell_type": "code",
   "execution_count": 146,
   "id": "50b4820e",
   "metadata": {},
   "outputs": [
    {
     "data": {
      "text/plain": [
       "[('var_g',),\n",
       " ('var_installed_cap',),\n",
       " ('var_storage_level',),\n",
       " ('var_installed_storage',),\n",
       " ('var_charge',),\n",
       " ('var_discharge',),\n",
       " ('var_emissions',),\n",
       " ('scalarvariables',)]"
      ]
     },
     "execution_count": 146,
     "metadata": {},
     "output_type": "execute_result"
    }
   ],
   "source": [
    "tables"
   ]
  },
  {
   "cell_type": "code",
   "execution_count": 148,
   "id": "89c6eb2f",
   "metadata": {},
   "outputs": [
    {
     "data": {
      "text/html": [
       "<div>\n",
       "<style scoped>\n",
       "    .dataframe tbody tr th:only-of-type {\n",
       "        vertical-align: middle;\n",
       "    }\n",
       "\n",
       "    .dataframe tbody tr th {\n",
       "        vertical-align: top;\n",
       "    }\n",
       "\n",
       "    .dataframe thead th {\n",
       "        text-align: right;\n",
       "    }\n",
       "</style>\n",
       "<table border=\"1\" class=\"dataframe\">\n",
       "  <thead>\n",
       "    <tr style=\"text-align: right;\">\n",
       "      <th></th>\n",
       "      <th>t</th>\n",
       "      <th>level</th>\n",
       "      <th>lo</th>\n",
       "      <th>up</th>\n",
       "      <th>marginal</th>\n",
       "    </tr>\n",
       "  </thead>\n",
       "  <tbody>\n",
       "    <tr>\n",
       "      <th>0</th>\n",
       "      <td>wind</td>\n",
       "      <td>27806.173713</td>\n",
       "      <td>0.0</td>\n",
       "      <td>1.000000e+100</td>\n",
       "      <td>0.0</td>\n",
       "    </tr>\n",
       "    <tr>\n",
       "      <th>1</th>\n",
       "      <td>pv</td>\n",
       "      <td>29380.816186</td>\n",
       "      <td>0.0</td>\n",
       "      <td>1.000000e+100</td>\n",
       "      <td>0.0</td>\n",
       "    </tr>\n",
       "    <tr>\n",
       "      <th>2</th>\n",
       "      <td>gas</td>\n",
       "      <td>16002.370403</td>\n",
       "      <td>0.0</td>\n",
       "      <td>1.000000e+100</td>\n",
       "      <td>0.0</td>\n",
       "    </tr>\n",
       "    <tr>\n",
       "      <th>3</th>\n",
       "      <td>gas_ccs</td>\n",
       "      <td>13264.519829</td>\n",
       "      <td>0.0</td>\n",
       "      <td>1.000000e+100</td>\n",
       "      <td>0.0</td>\n",
       "    </tr>\n",
       "  </tbody>\n",
       "</table>\n",
       "</div>"
      ],
      "text/plain": [
       "         t         level   lo             up  marginal\n",
       "0     wind  27806.173713  0.0  1.000000e+100       0.0\n",
       "1       pv  29380.816186  0.0  1.000000e+100       0.0\n",
       "2      gas  16002.370403  0.0  1.000000e+100       0.0\n",
       "3  gas_ccs  13264.519829  0.0  1.000000e+100       0.0"
      ]
     },
     "metadata": {},
     "output_type": "display_data"
    },
    {
     "data": {
      "text/html": [
       "<div>\n",
       "<style scoped>\n",
       "    .dataframe tbody tr th:only-of-type {\n",
       "        vertical-align: middle;\n",
       "    }\n",
       "\n",
       "    .dataframe tbody tr th {\n",
       "        vertical-align: top;\n",
       "    }\n",
       "\n",
       "    .dataframe thead th {\n",
       "        text-align: right;\n",
       "    }\n",
       "</style>\n",
       "<table border=\"1\" class=\"dataframe\">\n",
       "  <thead>\n",
       "    <tr style=\"text-align: right;\">\n",
       "      <th></th>\n",
       "      <th>s</th>\n",
       "      <th>level</th>\n",
       "      <th>lo</th>\n",
       "      <th>up</th>\n",
       "      <th>marginal</th>\n",
       "    </tr>\n",
       "  </thead>\n",
       "  <tbody>\n",
       "    <tr>\n",
       "      <th>0</th>\n",
       "      <td>battery</td>\n",
       "      <td>1279.454954</td>\n",
       "      <td>0.0</td>\n",
       "      <td>1.000000e+100</td>\n",
       "      <td>0.0</td>\n",
       "    </tr>\n",
       "  </tbody>\n",
       "</table>\n",
       "</div>"
      ],
      "text/plain": [
       "         s        level   lo             up  marginal\n",
       "0  battery  1279.454954  0.0  1.000000e+100       0.0"
      ]
     },
     "metadata": {},
     "output_type": "display_data"
    },
    {
     "name": "stdout",
     "output_type": "stream",
     "text": [
      "[11552292649, 11355598995, 11136364896, 10890440512, 10615210441, 10313957710, 9973992411]\n"
     ]
    }
   ],
   "source": [
    "con2020 = sq.connect(\"model_results2020.db\")\n",
    "con2025 = sq.connect(\"model_results2025.db\")\n",
    "con2030 = sq.connect(\"model_results2030.db\")\n",
    "con2035 = sq.connect(\"model_results2035.db\")\n",
    "con2040 = sq.connect(\"model_results2040.db\")\n",
    "con2045 = sq.connect(\"model_results2045.db\")\n",
    "con2050 = sq.connect(\"model_results2050.db\")\n",
    "\n",
    "df2020 = pd.read_sql_query(\"SELECT * FROM var_installed_cap\", con2020)\n",
    "df2025 = pd.read_sql_query(\"SELECT * FROM var_installed_cap\", con2025)\n",
    "df2030 = pd.read_sql_query(\"SELECT * FROM var_installed_cap\", con2030)\n",
    "df2035 = pd.read_sql_query(\"SELECT * FROM var_installed_cap\", con2035)\n",
    "df2040 = pd.read_sql_query(\"SELECT * FROM var_installed_cap\", con2040)\n",
    "df2045 = pd.read_sql_query(\"SELECT * FROM var_installed_cap\", con2045)\n",
    "df2050 = pd.read_sql_query(\"SELECT * FROM var_installed_cap\", con2050)\n",
    "\n",
    "df_storage2020 = pd.read_sql_query(\"SELECT * FROM var_installed_storage\", con2020)\n",
    "df_storage2025 = pd.read_sql_query(\"SELECT * FROM var_installed_storage\", con2025)\n",
    "df_storage2030 = pd.read_sql_query(\"SELECT * FROM var_installed_storage\", con2030)\n",
    "df_storage2035 = pd.read_sql_query(\"SELECT * FROM var_installed_storage\", con2035)\n",
    "df_storage2040 = pd.read_sql_query(\"SELECT * FROM var_installed_storage\", con2040)\n",
    "df_storage2045 = pd.read_sql_query(\"SELECT * FROM var_installed_storage\", con2045)\n",
    "df_storage2050 = pd.read_sql_query(\"SELECT * FROM var_installed_storage\", con2050)\n",
    "\n",
    "cost2020 = int(pd.read_sql_query(\"SELECT * FROM scalarvariables\", con2020)[\"level\"])\n",
    "cost2025 = int(pd.read_sql_query(\"SELECT * FROM scalarvariables\", con2025)[\"level\"])\n",
    "cost2030 = int(pd.read_sql_query(\"SELECT * FROM scalarvariables\", con2030)[\"level\"])\n",
    "cost2035 = int(pd.read_sql_query(\"SELECT * FROM scalarvariables\", con2035)[\"level\"])\n",
    "cost2040 = int(pd.read_sql_query(\"SELECT * FROM scalarvariables\", con2040)[\"level\"])\n",
    "cost2045 = int(pd.read_sql_query(\"SELECT * FROM scalarvariables\", con2045)[\"level\"])\n",
    "cost2050 = int(pd.read_sql_query(\"SELECT * FROM scalarvariables\", con2050)[\"level\"])\n",
    "\n",
    "tot_sys_costs = [cost2020,cost2025,cost2030,cost2035,cost2040,cost2045,cost2050]\n",
    "\n",
    "display(df2020)\n",
    "display(df_storage2020)\n",
    "print(tot_sys_costs)"
   ]
  },
  {
   "cell_type": "code",
   "execution_count": 149,
   "id": "cef91fa7",
   "metadata": {},
   "outputs": [
    {
     "data": {
      "text/html": [
       "<div>\n",
       "<style scoped>\n",
       "    .dataframe tbody tr th:only-of-type {\n",
       "        vertical-align: middle;\n",
       "    }\n",
       "\n",
       "    .dataframe tbody tr th {\n",
       "        vertical-align: top;\n",
       "    }\n",
       "\n",
       "    .dataframe thead th {\n",
       "        text-align: right;\n",
       "    }\n",
       "</style>\n",
       "<table border=\"1\" class=\"dataframe\">\n",
       "  <thead>\n",
       "    <tr style=\"text-align: right;\">\n",
       "      <th></th>\n",
       "      <th>year</th>\n",
       "      <th>wind</th>\n",
       "      <th>pv</th>\n",
       "      <th>gas</th>\n",
       "      <th>gas_ccs</th>\n",
       "    </tr>\n",
       "  </thead>\n",
       "  <tbody>\n",
       "    <tr>\n",
       "      <th>0</th>\n",
       "      <td>2020</td>\n",
       "      <td>27806.173713</td>\n",
       "      <td>29380.816186</td>\n",
       "      <td>16002.370403</td>\n",
       "      <td>13264.519829</td>\n",
       "    </tr>\n",
       "    <tr>\n",
       "      <th>1</th>\n",
       "      <td>2025</td>\n",
       "      <td>26971.121301</td>\n",
       "      <td>32403.153761</td>\n",
       "      <td>14686.066793</td>\n",
       "      <td>14516.582662</td>\n",
       "    </tr>\n",
       "    <tr>\n",
       "      <th>2</th>\n",
       "      <td>2030</td>\n",
       "      <td>26747.403301</td>\n",
       "      <td>37413.645610</td>\n",
       "      <td>12522.404376</td>\n",
       "      <td>15250.657919</td>\n",
       "    </tr>\n",
       "    <tr>\n",
       "      <th>3</th>\n",
       "      <td>2035</td>\n",
       "      <td>26968.363338</td>\n",
       "      <td>42687.964245</td>\n",
       "      <td>10915.573706</td>\n",
       "      <td>15562.293273</td>\n",
       "    </tr>\n",
       "    <tr>\n",
       "      <th>4</th>\n",
       "      <td>2040</td>\n",
       "      <td>26351.325576</td>\n",
       "      <td>47704.634156</td>\n",
       "      <td>9852.482008</td>\n",
       "      <td>15704.865527</td>\n",
       "    </tr>\n",
       "    <tr>\n",
       "      <th>5</th>\n",
       "      <td>2045</td>\n",
       "      <td>25879.185198</td>\n",
       "      <td>54327.086268</td>\n",
       "      <td>8468.259016</td>\n",
       "      <td>15500.537094</td>\n",
       "    </tr>\n",
       "    <tr>\n",
       "      <th>6</th>\n",
       "      <td>2050</td>\n",
       "      <td>25550.216310</td>\n",
       "      <td>59415.924266</td>\n",
       "      <td>7857.534005</td>\n",
       "      <td>15803.559862</td>\n",
       "    </tr>\n",
       "  </tbody>\n",
       "</table>\n",
       "</div>"
      ],
      "text/plain": [
       "   year          wind            pv           gas       gas_ccs\n",
       "0  2020  27806.173713  29380.816186  16002.370403  13264.519829\n",
       "1  2025  26971.121301  32403.153761  14686.066793  14516.582662\n",
       "2  2030  26747.403301  37413.645610  12522.404376  15250.657919\n",
       "3  2035  26968.363338  42687.964245  10915.573706  15562.293273\n",
       "4  2040  26351.325576  47704.634156   9852.482008  15704.865527\n",
       "5  2045  25879.185198  54327.086268   8468.259016  15500.537094\n",
       "6  2050  25550.216310  59415.924266   7857.534005  15803.559862"
      ]
     },
     "metadata": {},
     "output_type": "display_data"
    },
    {
     "data": {
      "text/html": [
       "<div>\n",
       "<style scoped>\n",
       "    .dataframe tbody tr th:only-of-type {\n",
       "        vertical-align: middle;\n",
       "    }\n",
       "\n",
       "    .dataframe tbody tr th {\n",
       "        vertical-align: top;\n",
       "    }\n",
       "\n",
       "    .dataframe thead th {\n",
       "        text-align: right;\n",
       "    }\n",
       "</style>\n",
       "<table border=\"1\" class=\"dataframe\">\n",
       "  <thead>\n",
       "    <tr style=\"text-align: right;\">\n",
       "      <th></th>\n",
       "      <th>year</th>\n",
       "      <th>battery</th>\n",
       "    </tr>\n",
       "  </thead>\n",
       "  <tbody>\n",
       "    <tr>\n",
       "      <th>0</th>\n",
       "      <td>2020</td>\n",
       "      <td>1279.454954</td>\n",
       "    </tr>\n",
       "    <tr>\n",
       "      <th>1</th>\n",
       "      <td>2025</td>\n",
       "      <td>1498.916440</td>\n",
       "    </tr>\n",
       "    <tr>\n",
       "      <th>2</th>\n",
       "      <td>2030</td>\n",
       "      <td>7926.443854</td>\n",
       "    </tr>\n",
       "    <tr>\n",
       "      <th>3</th>\n",
       "      <td>2035</td>\n",
       "      <td>14873.201388</td>\n",
       "    </tr>\n",
       "    <tr>\n",
       "      <th>4</th>\n",
       "      <td>2040</td>\n",
       "      <td>20988.976248</td>\n",
       "    </tr>\n",
       "    <tr>\n",
       "      <th>5</th>\n",
       "      <td>2045</td>\n",
       "      <td>33439.542372</td>\n",
       "    </tr>\n",
       "    <tr>\n",
       "      <th>6</th>\n",
       "      <td>2050</td>\n",
       "      <td>36269.743200</td>\n",
       "    </tr>\n",
       "  </tbody>\n",
       "</table>\n",
       "</div>"
      ],
      "text/plain": [
       "   year       battery\n",
       "0  2020   1279.454954\n",
       "1  2025   1498.916440\n",
       "2  2030   7926.443854\n",
       "3  2035  14873.201388\n",
       "4  2040  20988.976248\n",
       "5  2045  33439.542372\n",
       "6  2050  36269.743200"
      ]
     },
     "metadata": {},
     "output_type": "display_data"
    }
   ],
   "source": [
    "df_installed_generation = pd.DataFrame([[\"2020\", df2020[\"level\"][0], df2020[\"level\"][1], df2020[\"level\"][2], df2020[\"level\"][3]],\\\n",
    "                  [\"2025\", df2025[\"level\"][0], df2025[\"level\"][1], df2025[\"level\"][2], df2025[\"level\"][3]],\\\n",
    "                  [\"2030\", df2030[\"level\"][0], df2030[\"level\"][1], df2030[\"level\"][2], df2030[\"level\"][3]],\\\n",
    "                  [\"2035\", df2035[\"level\"][0], df2035[\"level\"][1], df2035[\"level\"][2], df2035[\"level\"][3]],\\\n",
    "                  [\"2040\", df2040[\"level\"][0], df2040[\"level\"][1], df2040[\"level\"][2], df2040[\"level\"][3]],\\\n",
    "                  [\"2045\", df2045[\"level\"][0], df2045[\"level\"][1], df2045[\"level\"][2], df2045[\"level\"][3]],\\\n",
    "                  [\"2050\", df2050[\"level\"][0], df2050[\"level\"][1], df2050[\"level\"][2], df2050[\"level\"][3]]],\\\n",
    "                 columns=[\"year\", \"wind\", \"pv\", \"gas\", \"gas_ccs\"])\n",
    "display(df_installed_generation)\n",
    "\n",
    "df_installed_storage = pd.DataFrame([[\"2020\", df_storage2020[\"level\"][0]],\\\n",
    "                                    [\"2025\", df_storage2025[\"level\"][0]],\\\n",
    "                                    [\"2030\", df_storage2030[\"level\"][0]],\\\n",
    "                                    [\"2035\", df_storage2035[\"level\"][0]],\\\n",
    "                                    [\"2040\", df_storage2040[\"level\"][0]],\\\n",
    "                                    [\"2045\", df_storage2045[\"level\"][0]],\\\n",
    "                                    [\"2050\", df_storage2050[\"level\"][0]]], columns=[\"year\", \"battery\"])\n",
    "display(df_installed_storage)"
   ]
  },
  {
   "cell_type": "code",
   "execution_count": 159,
   "id": "25cc26e4",
   "metadata": {},
   "outputs": [
    {
     "data": {
      "text/plain": [
       "Text(0, 0.5, 'MWh')"
      ]
     },
     "execution_count": 159,
     "metadata": {},
     "output_type": "execute_result"
    },
    {
     "data": {
      "image/png": "[encoded data removed]",
      "text/plain": [
       "<Figure size 432x288 with 1 Axes>"
      ]
     },
     "metadata": {
      "needs_background": "light"
     },
     "output_type": "display_data"
    },
    {
     "data": {
      "image/png": "[encoded data removed]",
      "text/plain": [
       "<Figure size 432x288 with 1 Axes>"
      ]
     },
     "metadata": {
      "needs_background": "light"
     },
     "output_type": "display_data"
    }
   ],
   "source": [
    "\n",
    "df_installed_generation.plot(x='year', kind=\"bar\", stacked=True, color=[\"lightsteelblue\", \"gold\", \"olive\", \"cadetblue\"],\n",
    "        title='Installed generation capacity').legend(loc='center left',bbox_to_anchor=(1.0, 0.5));\n",
    "plt.ylabel(\"MW\")\n",
    "df_installed_storage.plot(x=\"year\", kind=\"bar\", color=\"lightgreen\", \\\n",
    "                          title=\"Installed battery storage\").legend(loc='center left',bbox_to_anchor=(1.0, 0.5))\n",
    "plt.ylabel(\"MWh\")"
   ]
  },
  {
   "cell_type": "code",
   "execution_count": 151,
   "id": "b5a7cdfb",
   "metadata": {},
   "outputs": [
    {
     "data": {
      "image/png": "[encoded data removed]",
      "text/plain": [
       "<Figure size 432x288 with 1 Axes>"
      ]
     },
     "metadata": {
      "needs_background": "light"
     },
     "output_type": "display_data"
    }
   ],
   "source": [
    "years = [\"2020\", \"2025\", \"2030\", \"2035\", \"2040\", \"2045\", \"2050\"]\n",
    "plt.plot(years, tot_sys_costs, color=\"black\")\n",
    "plt.scatter(years, tot_sys_costs)\n",
    "plt.xlabel(\"year\")\n",
    "plt.ylabel(\"Total system cost [EUR]\")\n",
    "plt.title(\"Total System Cost of Installed Capacity\")\n",
    "plt.show()"
   ]
  },
  {
   "cell_type": "code",
   "execution_count": 165,
   "id": "fe104b77",
   "metadata": {},
   "outputs": [
    {
     "data": {
      "text/plain": [
       "<AxesSubplot:>"
      ]
     },
     "execution_count": 165,
     "metadata": {},
     "output_type": "execute_result"
    },
    {
     "data": {
      "image/png": "[encoded data removed]",
      "text/plain": [
       "<Figure size 432x288 with 1 Axes>"
      ]
     },
     "metadata": {
      "needs_background": "light"
     },
     "output_type": "display_data"
    }
   ],
   "source": [
    "df_storage_ramp = pd.read_sql_query(\"SELECT * FROM var_storage_level\", con2050)\n",
    "df_storage_ramp[60:80].plot(y=\"level\")"
   ]
  }
 ],
 "metadata": {
  "kernelspec": {
   "display_name": "Python 3 (ipykernel)",
   "language": "python",
   "name": "python3"
  },
  "language_info": {
   "codemirror_mode": {
    "name": "ipython",
    "version": 3
   },
   "file_extension": ".py",
   "mimetype": "text/x-python",
   "name": "python",
   "nbconvert_exporter": "python",
   "pygments_lexer": "ipython3",
   "version": "3.9.6"
  }
 },
 "nbformat": 4,
 "nbformat_minor": 5
}
